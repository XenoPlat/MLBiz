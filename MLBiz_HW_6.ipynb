{
  "nbformat": 4,
  "nbformat_minor": 0,
  "metadata": {
    "colab": {
      "name": "MLB-z_HW_6.ipynb",
      "provenance": []
    },
    "kernelspec": {
      "name": "python3",
      "display_name": "Python 3"
    }
  },
  "cells": [
    {
      "cell_type": "markdown",
      "metadata": {
        "id": "XbfL4Dxakj3z"
      },
      "source": [
        "1. взять любой набор данных для бинарной классификации (можно скачать один из модельных с https://archive.ics.uci.edu/ml/datasets.php)\r\n",
        "3. сделать feature engineering\r\n",
        "4. обучить любой классификатор (какой вам нравится)\r\n",
        "5. далее разделить ваш набор данных на два множества: P (positives) и U (unlabeled). Причем брать нужно не все положительные (класс 1) примеры, а только лишь часть\r\n",
        "6. применить random negative sampling для построения классификатора в новых условиях\r\n",
        "7. сравнить качество с решением из пункта 4 (построить отчет - таблицу метрик)\r\n",
        "8. поэкспериментировать с долей P на шаге 5 (как будет меняться качество модели при уменьшении/увеличении размера P)"
      ]
    },
    {
      "cell_type": "markdown",
      "metadata": {
        "id": "HSgEm0hJlY6M"
      },
      "source": [
        "Набор данных: Heart Disease Data Set (https://archive.ics.uci.edu/ml/datasets/Heart+Disease)\r\n",
        "\r\n",
        "Анализ анализ наличия сердечно-сосудитстых заболеваний."
      ]
    },
    {
      "cell_type": "code",
      "metadata": {
        "id": "JE-HjzIolnNP"
      },
      "source": [
        "import pandas as pd\r\n",
        "import numpy as np\r\n",
        "from sklearn.ensemble import GradientBoostingClassifier"
      ],
      "execution_count": 16,
      "outputs": []
    },
    {
      "cell_type": "code",
      "metadata": {
        "colab": {
          "base_uri": "https://localhost:8080/",
          "height": 314
        },
        "id": "pRvlbkVXluIM",
        "outputId": "7ded5f36-63c1-411d-fbff-429c0e810739"
      },
      "source": [
        "df = pd.read_csv('heart.csv')\r\n",
        "df.describe()"
      ],
      "execution_count": 17,
      "outputs": [
        {
          "output_type": "execute_result",
          "data": {
            "text/html": [
              "<div>\n",
              "<style scoped>\n",
              "    .dataframe tbody tr th:only-of-type {\n",
              "        vertical-align: middle;\n",
              "    }\n",
              "\n",
              "    .dataframe tbody tr th {\n",
              "        vertical-align: top;\n",
              "    }\n",
              "\n",
              "    .dataframe thead th {\n",
              "        text-align: right;\n",
              "    }\n",
              "</style>\n",
              "<table border=\"1\" class=\"dataframe\">\n",
              "  <thead>\n",
              "    <tr style=\"text-align: right;\">\n",
              "      <th></th>\n",
              "      <th>age</th>\n",
              "      <th>sex</th>\n",
              "      <th>cp</th>\n",
              "      <th>trestbps</th>\n",
              "      <th>chol</th>\n",
              "      <th>fbs</th>\n",
              "      <th>restecg</th>\n",
              "      <th>thalach</th>\n",
              "      <th>exang</th>\n",
              "      <th>oldpeak</th>\n",
              "      <th>slope</th>\n",
              "      <th>ca</th>\n",
              "      <th>thal</th>\n",
              "      <th>target</th>\n",
              "    </tr>\n",
              "  </thead>\n",
              "  <tbody>\n",
              "    <tr>\n",
              "      <th>count</th>\n",
              "      <td>303.000000</td>\n",
              "      <td>303.000000</td>\n",
              "      <td>303.000000</td>\n",
              "      <td>303.000000</td>\n",
              "      <td>303.000000</td>\n",
              "      <td>303.000000</td>\n",
              "      <td>303.000000</td>\n",
              "      <td>303.000000</td>\n",
              "      <td>303.000000</td>\n",
              "      <td>303.000000</td>\n",
              "      <td>303.000000</td>\n",
              "      <td>303.000000</td>\n",
              "      <td>303.000000</td>\n",
              "      <td>303.000000</td>\n",
              "    </tr>\n",
              "    <tr>\n",
              "      <th>mean</th>\n",
              "      <td>54.366337</td>\n",
              "      <td>0.683168</td>\n",
              "      <td>0.966997</td>\n",
              "      <td>131.623762</td>\n",
              "      <td>246.264026</td>\n",
              "      <td>0.148515</td>\n",
              "      <td>0.528053</td>\n",
              "      <td>149.646865</td>\n",
              "      <td>0.326733</td>\n",
              "      <td>1.039604</td>\n",
              "      <td>1.399340</td>\n",
              "      <td>0.729373</td>\n",
              "      <td>2.313531</td>\n",
              "      <td>0.544554</td>\n",
              "    </tr>\n",
              "    <tr>\n",
              "      <th>std</th>\n",
              "      <td>9.082101</td>\n",
              "      <td>0.466011</td>\n",
              "      <td>1.032052</td>\n",
              "      <td>17.538143</td>\n",
              "      <td>51.830751</td>\n",
              "      <td>0.356198</td>\n",
              "      <td>0.525860</td>\n",
              "      <td>22.905161</td>\n",
              "      <td>0.469794</td>\n",
              "      <td>1.161075</td>\n",
              "      <td>0.616226</td>\n",
              "      <td>1.022606</td>\n",
              "      <td>0.612277</td>\n",
              "      <td>0.498835</td>\n",
              "    </tr>\n",
              "    <tr>\n",
              "      <th>min</th>\n",
              "      <td>29.000000</td>\n",
              "      <td>0.000000</td>\n",
              "      <td>0.000000</td>\n",
              "      <td>94.000000</td>\n",
              "      <td>126.000000</td>\n",
              "      <td>0.000000</td>\n",
              "      <td>0.000000</td>\n",
              "      <td>71.000000</td>\n",
              "      <td>0.000000</td>\n",
              "      <td>0.000000</td>\n",
              "      <td>0.000000</td>\n",
              "      <td>0.000000</td>\n",
              "      <td>0.000000</td>\n",
              "      <td>0.000000</td>\n",
              "    </tr>\n",
              "    <tr>\n",
              "      <th>25%</th>\n",
              "      <td>47.500000</td>\n",
              "      <td>0.000000</td>\n",
              "      <td>0.000000</td>\n",
              "      <td>120.000000</td>\n",
              "      <td>211.000000</td>\n",
              "      <td>0.000000</td>\n",
              "      <td>0.000000</td>\n",
              "      <td>133.500000</td>\n",
              "      <td>0.000000</td>\n",
              "      <td>0.000000</td>\n",
              "      <td>1.000000</td>\n",
              "      <td>0.000000</td>\n",
              "      <td>2.000000</td>\n",
              "      <td>0.000000</td>\n",
              "    </tr>\n",
              "    <tr>\n",
              "      <th>50%</th>\n",
              "      <td>55.000000</td>\n",
              "      <td>1.000000</td>\n",
              "      <td>1.000000</td>\n",
              "      <td>130.000000</td>\n",
              "      <td>240.000000</td>\n",
              "      <td>0.000000</td>\n",
              "      <td>1.000000</td>\n",
              "      <td>153.000000</td>\n",
              "      <td>0.000000</td>\n",
              "      <td>0.800000</td>\n",
              "      <td>1.000000</td>\n",
              "      <td>0.000000</td>\n",
              "      <td>2.000000</td>\n",
              "      <td>1.000000</td>\n",
              "    </tr>\n",
              "    <tr>\n",
              "      <th>75%</th>\n",
              "      <td>61.000000</td>\n",
              "      <td>1.000000</td>\n",
              "      <td>2.000000</td>\n",
              "      <td>140.000000</td>\n",
              "      <td>274.500000</td>\n",
              "      <td>0.000000</td>\n",
              "      <td>1.000000</td>\n",
              "      <td>166.000000</td>\n",
              "      <td>1.000000</td>\n",
              "      <td>1.600000</td>\n",
              "      <td>2.000000</td>\n",
              "      <td>1.000000</td>\n",
              "      <td>3.000000</td>\n",
              "      <td>1.000000</td>\n",
              "    </tr>\n",
              "    <tr>\n",
              "      <th>max</th>\n",
              "      <td>77.000000</td>\n",
              "      <td>1.000000</td>\n",
              "      <td>3.000000</td>\n",
              "      <td>200.000000</td>\n",
              "      <td>564.000000</td>\n",
              "      <td>1.000000</td>\n",
              "      <td>2.000000</td>\n",
              "      <td>202.000000</td>\n",
              "      <td>1.000000</td>\n",
              "      <td>6.200000</td>\n",
              "      <td>2.000000</td>\n",
              "      <td>4.000000</td>\n",
              "      <td>3.000000</td>\n",
              "      <td>1.000000</td>\n",
              "    </tr>\n",
              "  </tbody>\n",
              "</table>\n",
              "</div>"
            ],
            "text/plain": [
              "              age         sex          cp  ...          ca        thal      target\n",
              "count  303.000000  303.000000  303.000000  ...  303.000000  303.000000  303.000000\n",
              "mean    54.366337    0.683168    0.966997  ...    0.729373    2.313531    0.544554\n",
              "std      9.082101    0.466011    1.032052  ...    1.022606    0.612277    0.498835\n",
              "min     29.000000    0.000000    0.000000  ...    0.000000    0.000000    0.000000\n",
              "25%     47.500000    0.000000    0.000000  ...    0.000000    2.000000    0.000000\n",
              "50%     55.000000    1.000000    1.000000  ...    0.000000    2.000000    1.000000\n",
              "75%     61.000000    1.000000    2.000000  ...    1.000000    3.000000    1.000000\n",
              "max     77.000000    1.000000    3.000000  ...    4.000000    3.000000    1.000000\n",
              "\n",
              "[8 rows x 14 columns]"
            ]
          },
          "metadata": {
            "tags": []
          },
          "execution_count": 17
        }
      ]
    },
    {
      "cell_type": "code",
      "metadata": {
        "colab": {
          "base_uri": "https://localhost:8080/"
        },
        "id": "bkRO21wIl1Ps",
        "outputId": "4360ce5a-18b1-425f-fad0-a6b373719e10"
      },
      "source": [
        "df.loc[df['age'] <= 20, 'age'] = 1\r\n",
        "df.loc[(df['age'] > 20) & (df['age'] <= 35), 'age'] = 2\r\n",
        "df.loc[(df['age'] > 35) & (df['age'] <= 50), 'age'] = 3\r\n",
        "df.loc[(df['age'] > 50) & (df['age'] <= 65), 'age'] = 4 \r\n",
        "df.loc[(df['age'] > 65) & (df['age'] <= 80), 'age'] = 5 \r\n",
        "df.loc[df['age'] >= 80, 'age'] = 6\r\n",
        "df['age'].value_counts()"
      ],
      "execution_count": 20,
      "outputs": [
        {
          "output_type": "execute_result",
          "data": {
            "text/plain": [
              "4    175\n",
              "3     88\n",
              "5     33\n",
              "2      7\n",
              "Name: age, dtype: int64"
            ]
          },
          "metadata": {
            "tags": []
          },
          "execution_count": 20
        }
      ]
    },
    {
      "cell_type": "markdown",
      "metadata": {
        "id": "NeG4XUMexxpx"
      },
      "source": [
        "До 20 лет - никого. Группа риска - от 50 до 65 лет. А после 80 лет нет данных."
      ]
    },
    {
      "cell_type": "code",
      "metadata": {
        "colab": {
          "base_uri": "https://localhost:8080/"
        },
        "id": "kTx5g4RfyOt-",
        "outputId": "55bb7e44-0b78-43cf-f45b-b002385e1ddb"
      },
      "source": [
        "# Аналитика по давлению\r\n",
        "\r\n",
        "cat_1 = len(df.loc[df['trestbps'] < 100])  #гипотония\r\n",
        "cat_2 = len(df.loc[(df['trestbps'] >= 100) & (df['trestbps'] < 130)]) #норма\r\n",
        "cat_3 = len(df.loc[(df['trestbps'] >= 130) & (df['trestbps'] < 140)]) #повышенное\r\n",
        "cat_4 = len(df.loc[(df['trestbps'] >= 140) & (df['trestbps'] < 160)])  #гипертония 1 степени\r\n",
        "cat_5 = len(df.loc[(df['trestbps'] >= 160) & (df['trestbps'] < 180)])  #гипертония 2 степени\r\n",
        "cat_6 = len(df.loc[df['trestbps'] >= 180])  #гипертония 3 степени\r\n",
        "\r\n",
        "df.loc[df['trestbps'] < 100, 'trestbps'] = 1 \r\n",
        "df.loc[(df['trestbps'] >= 100) & (df['trestbps'] < 130), 'trestbps'] = 2\r\n",
        "df.loc[(df['trestbps'] >= 130) & (df['trestbps'] < 140), 'trestbps'] = 3\r\n",
        "df.loc[(df['trestbps'] >= 140) & (df['trestbps'] < 160), 'trestbps'] = 4\r\n",
        "df.loc[(df['trestbps'] >= 160) & (df['trestbps'] < 180), 'trestbps'] = 5\r\n",
        "df.loc[df['trestbps'] >= 180, 'trestbps'] = 6\r\n",
        "df['trestbps'].value_counts()"
      ],
      "execution_count": 27,
      "outputs": [
        {
          "output_type": "execute_result",
          "data": {
            "text/plain": [
              "2    133\n",
              "4     71\n",
              "3     71\n",
              "5     21\n",
              "6      5\n",
              "1      2\n",
              "Name: trestbps, dtype: int64"
            ]
          },
          "metadata": {
            "tags": []
          },
          "execution_count": 27
        }
      ]
    },
    {
      "cell_type": "code",
      "metadata": {
        "colab": {
          "base_uri": "https://localhost:8080/"
        },
        "id": "rq8gksYwz5Pu",
        "outputId": "a4f1b5af-cc8a-4415-a59e-b5340c4f942a"
      },
      "source": [
        "# Холестирин\r\n",
        "\r\n",
        "df.loc[df['chol'] < 200, 'chol'] = 1 # желательный \r\n",
        "df.loc[(df['chol'] >= 200) & (df['chol'] < 240), 'chol'] = 2 #  пограничный\r\n",
        "df.loc[df['chol'] >= 240, 'chol'] = 3 #  высокий\r\n",
        "df['chol'].value_counts()"
      ],
      "execution_count": 30,
      "outputs": [
        {
          "output_type": "execute_result",
          "data": {
            "text/plain": [
              "3    155\n",
              "2     98\n",
              "1     50\n",
              "Name: chol, dtype: int64"
            ]
          },
          "metadata": {
            "tags": []
          },
          "execution_count": 30
        }
      ]
    },
    {
      "cell_type": "markdown",
      "metadata": {
        "id": "lKCtiEdd1GsL"
      },
      "source": [
        "Разбиваем выборку на тренировочную и тестовую части и обучаем модель."
      ]
    },
    {
      "cell_type": "code",
      "metadata": {
        "id": "WtvmDZGm0pF_"
      },
      "source": [
        "from sklearn.model_selection import train_test_split\r\n",
        "\r\n",
        "x_data = df.iloc[:,:-1]\r\n",
        "y_data = df.iloc[:,-1]\r\n",
        "\r\n",
        "x_train, x_test, y_train, y_test = train_test_split(x_data, y_data, test_size=0.2, random_state=7)"
      ],
      "execution_count": 32,
      "outputs": []
    },
    {
      "cell_type": "code",
      "metadata": {
        "id": "d0C6QyRF1TZh"
      },
      "source": [
        "model = GradientBoostingClassifier()\r\n",
        "\r\n",
        "model.fit(x_train, y_train)\r\n",
        "y_predict = model.predict(x_test)"
      ],
      "execution_count": 33,
      "outputs": []
    },
    {
      "cell_type": "code",
      "metadata": {
        "colab": {
          "base_uri": "https://localhost:8080/"
        },
        "id": "Hd-bNQZm1bHH",
        "outputId": "bed4379b-2616-412c-f5b6-0bb2b6674f72"
      },
      "source": [
        "# Проверка качества\r\n",
        "\r\n",
        "results = {\r\n",
        "    'approach': [],\r\n",
        "    'f1': [],\r\n",
        "    'roc': [],\r\n",
        "    'recall':[],\r\n",
        "    'precision':[]\r\n",
        "}\r\n",
        "\r\n",
        "from sklearn.metrics import recall_score, precision_score, roc_auc_score, accuracy_score, f1_score\r\n",
        "\r\n",
        "def evaluate_results(y_test, y_predict):\r\n",
        "    print('Classification results:')\r\n",
        "    f1 = f1_score(y_test, y_predict)\r\n",
        "    print(\"f1: %.2f%%\" % (f1 * 100.0)) \r\n",
        "    roc = roc_auc_score(y_test, y_predict)\r\n",
        "    print(\"roc: %.2f%%\" % (roc * 100.0)) \r\n",
        "    rec = recall_score(y_test, y_predict, average='binary')\r\n",
        "    print(\"recall: %.2f%%\" % (rec * 100.0)) \r\n",
        "    prc = precision_score(y_test, y_predict, average='binary')\r\n",
        "    print(\"precision: %.2f%%\" % (prc * 100.0)) \r\n",
        "\r\n",
        "\r\n",
        "\r\n",
        "results['approach'].append('gbc')\r\n",
        "results['f1'].append(f1_score(y_test, y_predict))\r\n",
        "results['roc'].append(roc_auc_score(y_test, y_predict))\r\n",
        "results['recall'].append(recall_score(y_test, y_predict, average='binary'))\r\n",
        "results['precision'].append(precision_score(y_test, y_predict, average='binary'))\r\n",
        "\r\n",
        "evaluate_results(y_test, y_predict)"
      ],
      "execution_count": 35,
      "outputs": [
        {
          "output_type": "stream",
          "text": [
            "Classification results:\n",
            "f1: 75.76%\n",
            "roc: 73.66%\n",
            "recall: 80.65%\n",
            "precision: 71.43%\n"
          ],
          "name": "stdout"
        }
      ]
    },
    {
      "cell_type": "code",
      "metadata": {
        "colab": {
          "base_uri": "https://localhost:8080/"
        },
        "id": "I-z8GBpa1kpY",
        "outputId": "b4933905-070a-49d7-8bdd-edb847af884d"
      },
      "source": [
        "# PU learning\r\n",
        "\r\n",
        "mod_data = df.copy()\r\n",
        "\r\n",
        "pos_ind = np.where(mod_data.iloc[:,-1].values == 1)[0]\r\n",
        "\r\n",
        "np.random.shuffle(pos_ind)\r\n",
        "\r\n",
        "pos_sample_len = int(np.ceil(0.25 * len(pos_ind)))\r\n",
        "print(f'Using {pos_sample_len}/{len(pos_ind)} as positives and unlabeling the rest')\r\n",
        "pos_sample = pos_ind[:pos_sample_len]"
      ],
      "execution_count": 37,
      "outputs": [
        {
          "output_type": "stream",
          "text": [
            "Using 42/165 as positives and unlabeling the rest\n"
          ],
          "name": "stdout"
        }
      ]
    },
    {
      "cell_type": "code",
      "metadata": {
        "colab": {
          "base_uri": "https://localhost:8080/"
        },
        "id": "jySna3hE1y7R",
        "outputId": "ae6957af-8af7-442d-ebc1-0e423d51cc5a"
      },
      "source": [
        "mod_data['class_test'] = -1\r\n",
        "mod_data.loc[pos_sample,'class_test'] = 1\r\n",
        "print('target variable:\\n', mod_data.iloc[:,-1].value_counts())"
      ],
      "execution_count": 38,
      "outputs": [
        {
          "output_type": "stream",
          "text": [
            "target variable:\n",
            " -1    261\n",
            " 1     42\n",
            "Name: class_test, dtype: int64\n"
          ],
          "name": "stdout"
        }
      ]
    },
    {
      "cell_type": "code",
      "metadata": {
        "colab": {
          "base_uri": "https://localhost:8080/",
          "height": 355
        },
        "id": "pFcnn-uq1_ga",
        "outputId": "e75f76ac-aaca-4d3a-f148-3d8edd831ea7"
      },
      "source": [
        "mod_data.head(10)"
      ],
      "execution_count": 39,
      "outputs": [
        {
          "output_type": "execute_result",
          "data": {
            "text/html": [
              "<div>\n",
              "<style scoped>\n",
              "    .dataframe tbody tr th:only-of-type {\n",
              "        vertical-align: middle;\n",
              "    }\n",
              "\n",
              "    .dataframe tbody tr th {\n",
              "        vertical-align: top;\n",
              "    }\n",
              "\n",
              "    .dataframe thead th {\n",
              "        text-align: right;\n",
              "    }\n",
              "</style>\n",
              "<table border=\"1\" class=\"dataframe\">\n",
              "  <thead>\n",
              "    <tr style=\"text-align: right;\">\n",
              "      <th></th>\n",
              "      <th>age</th>\n",
              "      <th>sex</th>\n",
              "      <th>cp</th>\n",
              "      <th>trestbps</th>\n",
              "      <th>chol</th>\n",
              "      <th>fbs</th>\n",
              "      <th>restecg</th>\n",
              "      <th>thalach</th>\n",
              "      <th>exang</th>\n",
              "      <th>oldpeak</th>\n",
              "      <th>slope</th>\n",
              "      <th>ca</th>\n",
              "      <th>thal</th>\n",
              "      <th>target</th>\n",
              "      <th>class_test</th>\n",
              "    </tr>\n",
              "  </thead>\n",
              "  <tbody>\n",
              "    <tr>\n",
              "      <th>0</th>\n",
              "      <td>4</td>\n",
              "      <td>1</td>\n",
              "      <td>3</td>\n",
              "      <td>4</td>\n",
              "      <td>2</td>\n",
              "      <td>1</td>\n",
              "      <td>0</td>\n",
              "      <td>150</td>\n",
              "      <td>0</td>\n",
              "      <td>2.3</td>\n",
              "      <td>0</td>\n",
              "      <td>0</td>\n",
              "      <td>1</td>\n",
              "      <td>1</td>\n",
              "      <td>-1</td>\n",
              "    </tr>\n",
              "    <tr>\n",
              "      <th>1</th>\n",
              "      <td>3</td>\n",
              "      <td>1</td>\n",
              "      <td>2</td>\n",
              "      <td>3</td>\n",
              "      <td>3</td>\n",
              "      <td>0</td>\n",
              "      <td>1</td>\n",
              "      <td>187</td>\n",
              "      <td>0</td>\n",
              "      <td>3.5</td>\n",
              "      <td>0</td>\n",
              "      <td>0</td>\n",
              "      <td>2</td>\n",
              "      <td>1</td>\n",
              "      <td>-1</td>\n",
              "    </tr>\n",
              "    <tr>\n",
              "      <th>2</th>\n",
              "      <td>3</td>\n",
              "      <td>0</td>\n",
              "      <td>1</td>\n",
              "      <td>3</td>\n",
              "      <td>2</td>\n",
              "      <td>0</td>\n",
              "      <td>0</td>\n",
              "      <td>172</td>\n",
              "      <td>0</td>\n",
              "      <td>1.4</td>\n",
              "      <td>2</td>\n",
              "      <td>0</td>\n",
              "      <td>2</td>\n",
              "      <td>1</td>\n",
              "      <td>-1</td>\n",
              "    </tr>\n",
              "    <tr>\n",
              "      <th>3</th>\n",
              "      <td>4</td>\n",
              "      <td>1</td>\n",
              "      <td>1</td>\n",
              "      <td>2</td>\n",
              "      <td>2</td>\n",
              "      <td>0</td>\n",
              "      <td>1</td>\n",
              "      <td>178</td>\n",
              "      <td>0</td>\n",
              "      <td>0.8</td>\n",
              "      <td>2</td>\n",
              "      <td>0</td>\n",
              "      <td>2</td>\n",
              "      <td>1</td>\n",
              "      <td>1</td>\n",
              "    </tr>\n",
              "    <tr>\n",
              "      <th>4</th>\n",
              "      <td>4</td>\n",
              "      <td>0</td>\n",
              "      <td>0</td>\n",
              "      <td>2</td>\n",
              "      <td>3</td>\n",
              "      <td>0</td>\n",
              "      <td>1</td>\n",
              "      <td>163</td>\n",
              "      <td>1</td>\n",
              "      <td>0.6</td>\n",
              "      <td>2</td>\n",
              "      <td>0</td>\n",
              "      <td>2</td>\n",
              "      <td>1</td>\n",
              "      <td>-1</td>\n",
              "    </tr>\n",
              "    <tr>\n",
              "      <th>5</th>\n",
              "      <td>4</td>\n",
              "      <td>1</td>\n",
              "      <td>0</td>\n",
              "      <td>4</td>\n",
              "      <td>1</td>\n",
              "      <td>0</td>\n",
              "      <td>1</td>\n",
              "      <td>148</td>\n",
              "      <td>0</td>\n",
              "      <td>0.4</td>\n",
              "      <td>1</td>\n",
              "      <td>0</td>\n",
              "      <td>1</td>\n",
              "      <td>1</td>\n",
              "      <td>-1</td>\n",
              "    </tr>\n",
              "    <tr>\n",
              "      <th>6</th>\n",
              "      <td>4</td>\n",
              "      <td>0</td>\n",
              "      <td>1</td>\n",
              "      <td>4</td>\n",
              "      <td>3</td>\n",
              "      <td>0</td>\n",
              "      <td>0</td>\n",
              "      <td>153</td>\n",
              "      <td>0</td>\n",
              "      <td>1.3</td>\n",
              "      <td>1</td>\n",
              "      <td>0</td>\n",
              "      <td>2</td>\n",
              "      <td>1</td>\n",
              "      <td>1</td>\n",
              "    </tr>\n",
              "    <tr>\n",
              "      <th>7</th>\n",
              "      <td>3</td>\n",
              "      <td>1</td>\n",
              "      <td>1</td>\n",
              "      <td>2</td>\n",
              "      <td>3</td>\n",
              "      <td>0</td>\n",
              "      <td>1</td>\n",
              "      <td>173</td>\n",
              "      <td>0</td>\n",
              "      <td>0.0</td>\n",
              "      <td>2</td>\n",
              "      <td>0</td>\n",
              "      <td>3</td>\n",
              "      <td>1</td>\n",
              "      <td>-1</td>\n",
              "    </tr>\n",
              "    <tr>\n",
              "      <th>8</th>\n",
              "      <td>4</td>\n",
              "      <td>1</td>\n",
              "      <td>2</td>\n",
              "      <td>5</td>\n",
              "      <td>1</td>\n",
              "      <td>1</td>\n",
              "      <td>1</td>\n",
              "      <td>162</td>\n",
              "      <td>0</td>\n",
              "      <td>0.5</td>\n",
              "      <td>2</td>\n",
              "      <td>0</td>\n",
              "      <td>3</td>\n",
              "      <td>1</td>\n",
              "      <td>-1</td>\n",
              "    </tr>\n",
              "    <tr>\n",
              "      <th>9</th>\n",
              "      <td>4</td>\n",
              "      <td>1</td>\n",
              "      <td>2</td>\n",
              "      <td>4</td>\n",
              "      <td>1</td>\n",
              "      <td>0</td>\n",
              "      <td>1</td>\n",
              "      <td>174</td>\n",
              "      <td>0</td>\n",
              "      <td>1.6</td>\n",
              "      <td>2</td>\n",
              "      <td>0</td>\n",
              "      <td>2</td>\n",
              "      <td>1</td>\n",
              "      <td>-1</td>\n",
              "    </tr>\n",
              "  </tbody>\n",
              "</table>\n",
              "</div>"
            ],
            "text/plain": [
              "   age  sex  cp  trestbps  chol  ...  slope  ca  thal  target  class_test\n",
              "0    4    1   3         4     2  ...      0   0     1       1          -1\n",
              "1    3    1   2         3     3  ...      0   0     2       1          -1\n",
              "2    3    0   1         3     2  ...      2   0     2       1          -1\n",
              "3    4    1   1         2     2  ...      2   0     2       1           1\n",
              "4    4    0   0         2     3  ...      2   0     2       1          -1\n",
              "5    4    1   0         4     1  ...      1   0     1       1          -1\n",
              "6    4    0   1         4     3  ...      1   0     2       1           1\n",
              "7    3    1   1         2     3  ...      2   0     3       1          -1\n",
              "8    4    1   2         5     1  ...      2   0     3       1          -1\n",
              "9    4    1   2         4     1  ...      2   0     2       1          -1\n",
              "\n",
              "[10 rows x 15 columns]"
            ]
          },
          "metadata": {
            "tags": []
          },
          "execution_count": 39
        }
      ]
    },
    {
      "cell_type": "code",
      "metadata": {
        "id": "7zh4kYQg2DYp"
      },
      "source": [
        "x_data = mod_data.iloc[:,:-2].values # just the X \r\n",
        "y_labeled = mod_data.iloc[:,-1].values # new class (just the P & U)\r\n",
        "y_positive = mod_data.iloc[:,-2].values # original class"
      ],
      "execution_count": 40,
      "outputs": []
    },
    {
      "cell_type": "code",
      "metadata": {
        "colab": {
          "base_uri": "https://localhost:8080/"
        },
        "id": "HuK0N64h2Ll8",
        "outputId": "3fed4821-7577-4846-e702-0fca576eb32a"
      },
      "source": [
        "# random negative sampling 25%\r\n",
        "\r\n",
        "mod_data = mod_data.sample(frac=1)\r\n",
        "neg_sample = mod_data[mod_data['class_test']==-1][:len(mod_data[mod_data['class_test']==1])]\r\n",
        "sample_test = mod_data[mod_data['class_test']==-1][len(mod_data[mod_data['class_test']==1]):]\r\n",
        "pos_sample = mod_data[mod_data['class_test']==1]\r\n",
        "print(neg_sample.shape, pos_sample.shape)\r\n",
        "sample_train = pd.concat([neg_sample, pos_sample]).sample(frac=1)"
      ],
      "execution_count": 41,
      "outputs": [
        {
          "output_type": "stream",
          "text": [
            "(42, 15) (42, 15)\n"
          ],
          "name": "stdout"
        }
      ]
    },
    {
      "cell_type": "code",
      "metadata": {
        "colab": {
          "base_uri": "https://localhost:8080/"
        },
        "id": "O5wQ3eM22TXM",
        "outputId": "4d85e29e-4928-413c-aebe-183f9d37605f"
      },
      "source": [
        "model = GradientBoostingClassifier()\r\n",
        "\r\n",
        "model.fit(sample_train.iloc[:,:-2].values, \r\n",
        "          sample_train.iloc[:,-2].values)\r\n",
        "y_predict = model.predict(sample_test.iloc[:,:-2].values)\r\n",
        "\r\n",
        "results['approach'].append('gbc_25%_rns')\r\n",
        "results['f1'].append(f1_score(sample_test.iloc[:,-2].values, y_predict))\r\n",
        "results['roc'].append(roc_auc_score(sample_test.iloc[:,-2].values, y_predict))\r\n",
        "results['recall'].append(recall_score(sample_test.iloc[:,-2].values, y_predict, average='binary'))\r\n",
        "results['precision'].append(precision_score(sample_test.iloc[:,-2].values, y_predict, average='binary'))\r\n",
        "\r\n",
        "\r\n",
        "evaluate_results(sample_test.iloc[:,-2].values, y_predict)"
      ],
      "execution_count": 42,
      "outputs": [
        {
          "output_type": "stream",
          "text": [
            "Classification results:\n",
            "f1: 74.59%\n",
            "roc: 72.81%\n",
            "recall: 89.22%\n",
            "precision: 64.08%\n"
          ],
          "name": "stdout"
        }
      ]
    },
    {
      "cell_type": "code",
      "metadata": {
        "colab": {
          "base_uri": "https://localhost:8080/"
        },
        "id": "Ni8OpU0u2XkU",
        "outputId": "97592ce3-7322-4992-920f-43aca2c58f79"
      },
      "source": [
        "# random negative sampling 10%\r\n",
        "\r\n",
        "mod_data = df.copy()\r\n",
        "\r\n",
        "pos_ind = np.where(mod_data.iloc[:,-1].values == 1)[0]\r\n",
        "\r\n",
        "np.random.shuffle(pos_ind)\r\n",
        "\r\n",
        "pos_sample_len = int(np.ceil(0.1 * len(pos_ind)))\r\n",
        "print(f'Using {pos_sample_len}/{len(pos_ind)} as positives and unlabeling the rest')\r\n",
        "pos_sample = pos_ind[:pos_sample_len]"
      ],
      "execution_count": 44,
      "outputs": [
        {
          "output_type": "stream",
          "text": [
            "Using 17/165 as positives and unlabeling the rest\n"
          ],
          "name": "stdout"
        }
      ]
    },
    {
      "cell_type": "code",
      "metadata": {
        "colab": {
          "base_uri": "https://localhost:8080/"
        },
        "id": "uUKWfJ3x2hq6",
        "outputId": "b0ab6919-fe6a-4484-948f-fd1b743d49d4"
      },
      "source": [
        "# Создаем столбец для новой целевой переменной, где у нас два класса - P (1) и U (-1)\r\n",
        "\r\n",
        "mod_data['class_test'] = -1\r\n",
        "mod_data.loc[pos_sample,'class_test'] = 1\r\n",
        "print('target variable:\\n', mod_data.iloc[:,-1].value_counts())"
      ],
      "execution_count": 45,
      "outputs": [
        {
          "output_type": "stream",
          "text": [
            "target variable:\n",
            " -1    286\n",
            " 1     17\n",
            "Name: class_test, dtype: int64\n"
          ],
          "name": "stdout"
        }
      ]
    },
    {
      "cell_type": "code",
      "metadata": {
        "colab": {
          "base_uri": "https://localhost:8080/"
        },
        "id": "irwUB7q02teS",
        "outputId": "30566242-d9ef-4a11-9fa4-613ee6306f6c"
      },
      "source": [
        "x_data = mod_data.iloc[:,:-2].values # just the X \r\n",
        "y_labeled = mod_data.iloc[:,-1].values # new class (just the P & U)\r\n",
        "y_positive = mod_data.iloc[:,-2].values # original class\r\n",
        "\r\n",
        "mod_data = mod_data.sample(frac=1)\r\n",
        "neg_sample = mod_data[mod_data['class_test']==-1][:len(mod_data[mod_data['class_test']==1])]\r\n",
        "sample_test = mod_data[mod_data['class_test']==-1][len(mod_data[mod_data['class_test']==1]):]\r\n",
        "pos_sample = mod_data[mod_data['class_test']==1]\r\n",
        "print(neg_sample.shape, pos_sample.shape)\r\n",
        "sample_train = pd.concat([neg_sample, pos_sample]).sample(frac=1)"
      ],
      "execution_count": 46,
      "outputs": [
        {
          "output_type": "stream",
          "text": [
            "(17, 15) (17, 15)\n"
          ],
          "name": "stdout"
        }
      ]
    },
    {
      "cell_type": "code",
      "metadata": {
        "colab": {
          "base_uri": "https://localhost:8080/"
        },
        "id": "927lFc3023l9",
        "outputId": "df1cf880-0c00-4715-b618-1299b78fa8ca"
      },
      "source": [
        "model = GradientBoostingClassifier()\r\n",
        "\r\n",
        "model.fit(sample_train.iloc[:,:-2].values, \r\n",
        "          sample_train.iloc[:,-2].values)\r\n",
        "y_predict = model.predict(sample_test.iloc[:,:-2].values)\r\n",
        "\r\n",
        "results['approach'].append('gbc_10%_rns')\r\n",
        "results['f1'].append(f1_score(sample_test.iloc[:,-2].values, y_predict))\r\n",
        "results['roc'].append(roc_auc_score(sample_test.iloc[:,-2].values, y_predict))\r\n",
        "results['recall'].append(recall_score(sample_test.iloc[:,-2].values, y_predict, average='binary'))\r\n",
        "results['precision'].append(precision_score(sample_test.iloc[:,-2].values, y_predict, average='binary'))\r\n",
        "\r\n",
        "\r\n",
        "evaluate_results(sample_test.iloc[:,-2].values, y_predict)"
      ],
      "execution_count": 47,
      "outputs": [
        {
          "output_type": "stream",
          "text": [
            "Classification results:\n",
            "f1: 77.50%\n",
            "roc: 72.40%\n",
            "recall: 87.32%\n",
            "precision: 69.66%\n"
          ],
          "name": "stdout"
        }
      ]
    },
    {
      "cell_type": "code",
      "metadata": {
        "colab": {
          "base_uri": "https://localhost:8080/"
        },
        "id": "oYja0nY42710",
        "outputId": "a44fbd0e-8bd9-4474-e46a-73689e2c97fd"
      },
      "source": [
        "# random negative sampling 50%\r\n",
        "\r\n",
        "mod_data = df.copy()\r\n",
        "\r\n",
        "pos_ind = np.where(mod_data.iloc[:,-1].values == 1)[0]\r\n",
        "\r\n",
        "np.random.shuffle(pos_ind)\r\n",
        "\r\n",
        "pos_sample_len = int(np.ceil(0.5 * len(pos_ind)))\r\n",
        "print(f'Using {pos_sample_len}/{len(pos_ind)} as positives and unlabeling the rest')\r\n",
        "pos_sample = pos_ind[:pos_sample_len]"
      ],
      "execution_count": 49,
      "outputs": [
        {
          "output_type": "stream",
          "text": [
            "Using 83/165 as positives and unlabeling the rest\n"
          ],
          "name": "stdout"
        }
      ]
    },
    {
      "cell_type": "code",
      "metadata": {
        "colab": {
          "base_uri": "https://localhost:8080/"
        },
        "id": "NbU2LrjO3J_m",
        "outputId": "d5159e34-10dc-4eb5-ea7f-e8ff1fda1c74"
      },
      "source": [
        "# Создаем столбец для новой целевой переменной, где у нас два класса - P (1) и U (-1)\r\n",
        "\r\n",
        "mod_data['class_test'] = -1\r\n",
        "mod_data.loc[pos_sample,'class_test'] = 1\r\n",
        "print('target variable:\\n', mod_data.iloc[:,-1].value_counts())"
      ],
      "execution_count": 50,
      "outputs": [
        {
          "output_type": "stream",
          "text": [
            "target variable:\n",
            " -1    220\n",
            " 1     83\n",
            "Name: class_test, dtype: int64\n"
          ],
          "name": "stdout"
        }
      ]
    },
    {
      "cell_type": "code",
      "metadata": {
        "colab": {
          "base_uri": "https://localhost:8080/",
          "height": 355
        },
        "id": "kfXR2tRM3TUe",
        "outputId": "253c3afc-534f-4283-e601-8179faa60093"
      },
      "source": [
        "mod_data.head(10)"
      ],
      "execution_count": 51,
      "outputs": [
        {
          "output_type": "execute_result",
          "data": {
            "text/html": [
              "<div>\n",
              "<style scoped>\n",
              "    .dataframe tbody tr th:only-of-type {\n",
              "        vertical-align: middle;\n",
              "    }\n",
              "\n",
              "    .dataframe tbody tr th {\n",
              "        vertical-align: top;\n",
              "    }\n",
              "\n",
              "    .dataframe thead th {\n",
              "        text-align: right;\n",
              "    }\n",
              "</style>\n",
              "<table border=\"1\" class=\"dataframe\">\n",
              "  <thead>\n",
              "    <tr style=\"text-align: right;\">\n",
              "      <th></th>\n",
              "      <th>age</th>\n",
              "      <th>sex</th>\n",
              "      <th>cp</th>\n",
              "      <th>trestbps</th>\n",
              "      <th>chol</th>\n",
              "      <th>fbs</th>\n",
              "      <th>restecg</th>\n",
              "      <th>thalach</th>\n",
              "      <th>exang</th>\n",
              "      <th>oldpeak</th>\n",
              "      <th>slope</th>\n",
              "      <th>ca</th>\n",
              "      <th>thal</th>\n",
              "      <th>target</th>\n",
              "      <th>class_test</th>\n",
              "    </tr>\n",
              "  </thead>\n",
              "  <tbody>\n",
              "    <tr>\n",
              "      <th>0</th>\n",
              "      <td>4</td>\n",
              "      <td>1</td>\n",
              "      <td>3</td>\n",
              "      <td>4</td>\n",
              "      <td>2</td>\n",
              "      <td>1</td>\n",
              "      <td>0</td>\n",
              "      <td>150</td>\n",
              "      <td>0</td>\n",
              "      <td>2.3</td>\n",
              "      <td>0</td>\n",
              "      <td>0</td>\n",
              "      <td>1</td>\n",
              "      <td>1</td>\n",
              "      <td>1</td>\n",
              "    </tr>\n",
              "    <tr>\n",
              "      <th>1</th>\n",
              "      <td>3</td>\n",
              "      <td>1</td>\n",
              "      <td>2</td>\n",
              "      <td>3</td>\n",
              "      <td>3</td>\n",
              "      <td>0</td>\n",
              "      <td>1</td>\n",
              "      <td>187</td>\n",
              "      <td>0</td>\n",
              "      <td>3.5</td>\n",
              "      <td>0</td>\n",
              "      <td>0</td>\n",
              "      <td>2</td>\n",
              "      <td>1</td>\n",
              "      <td>-1</td>\n",
              "    </tr>\n",
              "    <tr>\n",
              "      <th>2</th>\n",
              "      <td>3</td>\n",
              "      <td>0</td>\n",
              "      <td>1</td>\n",
              "      <td>3</td>\n",
              "      <td>2</td>\n",
              "      <td>0</td>\n",
              "      <td>0</td>\n",
              "      <td>172</td>\n",
              "      <td>0</td>\n",
              "      <td>1.4</td>\n",
              "      <td>2</td>\n",
              "      <td>0</td>\n",
              "      <td>2</td>\n",
              "      <td>1</td>\n",
              "      <td>1</td>\n",
              "    </tr>\n",
              "    <tr>\n",
              "      <th>3</th>\n",
              "      <td>4</td>\n",
              "      <td>1</td>\n",
              "      <td>1</td>\n",
              "      <td>2</td>\n",
              "      <td>2</td>\n",
              "      <td>0</td>\n",
              "      <td>1</td>\n",
              "      <td>178</td>\n",
              "      <td>0</td>\n",
              "      <td>0.8</td>\n",
              "      <td>2</td>\n",
              "      <td>0</td>\n",
              "      <td>2</td>\n",
              "      <td>1</td>\n",
              "      <td>1</td>\n",
              "    </tr>\n",
              "    <tr>\n",
              "      <th>4</th>\n",
              "      <td>4</td>\n",
              "      <td>0</td>\n",
              "      <td>0</td>\n",
              "      <td>2</td>\n",
              "      <td>3</td>\n",
              "      <td>0</td>\n",
              "      <td>1</td>\n",
              "      <td>163</td>\n",
              "      <td>1</td>\n",
              "      <td>0.6</td>\n",
              "      <td>2</td>\n",
              "      <td>0</td>\n",
              "      <td>2</td>\n",
              "      <td>1</td>\n",
              "      <td>-1</td>\n",
              "    </tr>\n",
              "    <tr>\n",
              "      <th>5</th>\n",
              "      <td>4</td>\n",
              "      <td>1</td>\n",
              "      <td>0</td>\n",
              "      <td>4</td>\n",
              "      <td>1</td>\n",
              "      <td>0</td>\n",
              "      <td>1</td>\n",
              "      <td>148</td>\n",
              "      <td>0</td>\n",
              "      <td>0.4</td>\n",
              "      <td>1</td>\n",
              "      <td>0</td>\n",
              "      <td>1</td>\n",
              "      <td>1</td>\n",
              "      <td>-1</td>\n",
              "    </tr>\n",
              "    <tr>\n",
              "      <th>6</th>\n",
              "      <td>4</td>\n",
              "      <td>0</td>\n",
              "      <td>1</td>\n",
              "      <td>4</td>\n",
              "      <td>3</td>\n",
              "      <td>0</td>\n",
              "      <td>0</td>\n",
              "      <td>153</td>\n",
              "      <td>0</td>\n",
              "      <td>1.3</td>\n",
              "      <td>1</td>\n",
              "      <td>0</td>\n",
              "      <td>2</td>\n",
              "      <td>1</td>\n",
              "      <td>1</td>\n",
              "    </tr>\n",
              "    <tr>\n",
              "      <th>7</th>\n",
              "      <td>3</td>\n",
              "      <td>1</td>\n",
              "      <td>1</td>\n",
              "      <td>2</td>\n",
              "      <td>3</td>\n",
              "      <td>0</td>\n",
              "      <td>1</td>\n",
              "      <td>173</td>\n",
              "      <td>0</td>\n",
              "      <td>0.0</td>\n",
              "      <td>2</td>\n",
              "      <td>0</td>\n",
              "      <td>3</td>\n",
              "      <td>1</td>\n",
              "      <td>1</td>\n",
              "    </tr>\n",
              "    <tr>\n",
              "      <th>8</th>\n",
              "      <td>4</td>\n",
              "      <td>1</td>\n",
              "      <td>2</td>\n",
              "      <td>5</td>\n",
              "      <td>1</td>\n",
              "      <td>1</td>\n",
              "      <td>1</td>\n",
              "      <td>162</td>\n",
              "      <td>0</td>\n",
              "      <td>0.5</td>\n",
              "      <td>2</td>\n",
              "      <td>0</td>\n",
              "      <td>3</td>\n",
              "      <td>1</td>\n",
              "      <td>-1</td>\n",
              "    </tr>\n",
              "    <tr>\n",
              "      <th>9</th>\n",
              "      <td>4</td>\n",
              "      <td>1</td>\n",
              "      <td>2</td>\n",
              "      <td>4</td>\n",
              "      <td>1</td>\n",
              "      <td>0</td>\n",
              "      <td>1</td>\n",
              "      <td>174</td>\n",
              "      <td>0</td>\n",
              "      <td>1.6</td>\n",
              "      <td>2</td>\n",
              "      <td>0</td>\n",
              "      <td>2</td>\n",
              "      <td>1</td>\n",
              "      <td>1</td>\n",
              "    </tr>\n",
              "  </tbody>\n",
              "</table>\n",
              "</div>"
            ],
            "text/plain": [
              "   age  sex  cp  trestbps  chol  ...  slope  ca  thal  target  class_test\n",
              "0    4    1   3         4     2  ...      0   0     1       1           1\n",
              "1    3    1   2         3     3  ...      0   0     2       1          -1\n",
              "2    3    0   1         3     2  ...      2   0     2       1           1\n",
              "3    4    1   1         2     2  ...      2   0     2       1           1\n",
              "4    4    0   0         2     3  ...      2   0     2       1          -1\n",
              "5    4    1   0         4     1  ...      1   0     1       1          -1\n",
              "6    4    0   1         4     3  ...      1   0     2       1           1\n",
              "7    3    1   1         2     3  ...      2   0     3       1           1\n",
              "8    4    1   2         5     1  ...      2   0     3       1          -1\n",
              "9    4    1   2         4     1  ...      2   0     2       1           1\n",
              "\n",
              "[10 rows x 15 columns]"
            ]
          },
          "metadata": {
            "tags": []
          },
          "execution_count": 51
        }
      ]
    },
    {
      "cell_type": "code",
      "metadata": {
        "colab": {
          "base_uri": "https://localhost:8080/"
        },
        "id": "wdWOoPh33Xhr",
        "outputId": "48077548-2ac6-45df-fef6-4b1dccafca52"
      },
      "source": [
        "x_data = mod_data.iloc[:,:-2].values # just the X \r\n",
        "y_labeled = mod_data.iloc[:,-1].values # new class (just the P & U)\r\n",
        "y_positive = mod_data.iloc[:,-2].values # original class\r\n",
        "\r\n",
        "mod_data = mod_data.sample(frac=1)\r\n",
        "neg_sample = mod_data[mod_data['class_test']==-1][:len(mod_data[mod_data['class_test']==1])]\r\n",
        "sample_test = mod_data[mod_data['class_test']==-1][len(mod_data[mod_data['class_test']==1]):]\r\n",
        "pos_sample = mod_data[mod_data['class_test']==1]\r\n",
        "print(neg_sample.shape, pos_sample.shape)\r\n",
        "sample_train = pd.concat([neg_sample, pos_sample]).sample(frac=1)"
      ],
      "execution_count": 52,
      "outputs": [
        {
          "output_type": "stream",
          "text": [
            "(83, 15) (83, 15)\n"
          ],
          "name": "stdout"
        }
      ]
    },
    {
      "cell_type": "code",
      "metadata": {
        "colab": {
          "base_uri": "https://localhost:8080/"
        },
        "id": "muVt0V_n3eSb",
        "outputId": "1e73bdb7-5ec1-43b4-c4d6-fc550b016601"
      },
      "source": [
        "model = GradientBoostingClassifier()\r\n",
        "\r\n",
        "model.fit(sample_train.iloc[:,:-2].values, \r\n",
        "          sample_train.iloc[:,-2].values)\r\n",
        "y_predict = model.predict(sample_test.iloc[:,:-2].values)\r\n",
        "\r\n",
        "results['approach'].append('gbc_50%_rns')\r\n",
        "results['f1'].append(f1_score(sample_test.iloc[:,-2].values, y_predict))\r\n",
        "results['roc'].append(roc_auc_score(sample_test.iloc[:,-2].values, y_predict))\r\n",
        "results['recall'].append(recall_score(sample_test.iloc[:,-2].values, y_predict, average='binary'))\r\n",
        "results['precision'].append(precision_score(sample_test.iloc[:,-2].values, y_predict, average='binary'))\r\n",
        "\r\n",
        "\r\n",
        "evaluate_results(sample_test.iloc[:,-2].values, y_predict)"
      ],
      "execution_count": 53,
      "outputs": [
        {
          "output_type": "stream",
          "text": [
            "Classification results:\n",
            "f1: 71.67%\n",
            "roc: 81.12%\n",
            "recall: 97.73%\n",
            "precision: 56.58%\n"
          ],
          "name": "stdout"
        }
      ]
    },
    {
      "cell_type": "code",
      "metadata": {
        "colab": {
          "base_uri": "https://localhost:8080/",
          "height": 171
        },
        "id": "vg9J6REW3g0Z",
        "outputId": "f0d8044f-916c-4f9e-e790-f59ac415a082"
      },
      "source": [
        "pd.DataFrame(data=results)"
      ],
      "execution_count": 54,
      "outputs": [
        {
          "output_type": "execute_result",
          "data": {
            "text/html": [
              "<div>\n",
              "<style scoped>\n",
              "    .dataframe tbody tr th:only-of-type {\n",
              "        vertical-align: middle;\n",
              "    }\n",
              "\n",
              "    .dataframe tbody tr th {\n",
              "        vertical-align: top;\n",
              "    }\n",
              "\n",
              "    .dataframe thead th {\n",
              "        text-align: right;\n",
              "    }\n",
              "</style>\n",
              "<table border=\"1\" class=\"dataframe\">\n",
              "  <thead>\n",
              "    <tr style=\"text-align: right;\">\n",
              "      <th></th>\n",
              "      <th>approach</th>\n",
              "      <th>f1</th>\n",
              "      <th>roc</th>\n",
              "      <th>recall</th>\n",
              "      <th>precision</th>\n",
              "    </tr>\n",
              "  </thead>\n",
              "  <tbody>\n",
              "    <tr>\n",
              "      <th>0</th>\n",
              "      <td>gbc</td>\n",
              "      <td>0.757576</td>\n",
              "      <td>0.736559</td>\n",
              "      <td>0.806452</td>\n",
              "      <td>0.714286</td>\n",
              "    </tr>\n",
              "    <tr>\n",
              "      <th>1</th>\n",
              "      <td>gbc_25%_rns</td>\n",
              "      <td>0.745902</td>\n",
              "      <td>0.728130</td>\n",
              "      <td>0.892157</td>\n",
              "      <td>0.640845</td>\n",
              "    </tr>\n",
              "    <tr>\n",
              "      <th>2</th>\n",
              "      <td>gbc_10%_rns</td>\n",
              "      <td>0.775000</td>\n",
              "      <td>0.724021</td>\n",
              "      <td>0.873239</td>\n",
              "      <td>0.696629</td>\n",
              "    </tr>\n",
              "    <tr>\n",
              "      <th>3</th>\n",
              "      <td>gbc_50%_rns</td>\n",
              "      <td>0.716667</td>\n",
              "      <td>0.811217</td>\n",
              "      <td>0.977273</td>\n",
              "      <td>0.565789</td>\n",
              "    </tr>\n",
              "  </tbody>\n",
              "</table>\n",
              "</div>"
            ],
            "text/plain": [
              "      approach        f1       roc    recall  precision\n",
              "0          gbc  0.757576  0.736559  0.806452   0.714286\n",
              "1  gbc_25%_rns  0.745902  0.728130  0.892157   0.640845\n",
              "2  gbc_10%_rns  0.775000  0.724021  0.873239   0.696629\n",
              "3  gbc_50%_rns  0.716667  0.811217  0.977273   0.565789"
            ]
          },
          "metadata": {
            "tags": []
          },
          "execution_count": 54
        }
      ]
    },
    {
      "cell_type": "code",
      "metadata": {
        "id": "SRQOEbnj3lg3"
      },
      "source": [
        ""
      ],
      "execution_count": null,
      "outputs": []
    }
  ]
}